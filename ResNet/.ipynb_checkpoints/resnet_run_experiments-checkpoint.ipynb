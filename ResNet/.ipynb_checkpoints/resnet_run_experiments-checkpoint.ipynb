{
 "cells": [
  {
   "cell_type": "code",
   "execution_count": 1,
   "id": "63e7a40d-3a69-4de3-8144-a505522c14c0",
   "metadata": {},
   "outputs": [],
   "source": [
    "import os\n",
    "import numpy as np\n",
    "import pandas as pd\n",
    "import torch\n",
    "import torch.nn as nn\n",
    "import torch.optim as optim\n",
    "import matplotlib.pyplot as plt\n",
    "from torch.utils.data import TensorDataset, DataLoader\n",
    "from sklearn.preprocessing import StandardScaler\n",
    "import torch.nn.functional as F\n",
    "from itertools import combinations\n",
    "from collections import defaultdict\n"
   ]
  },
  {
   "cell_type": "code",
   "execution_count": null,
   "id": "cae0f726-b46c-4564-b8ad-5d637f2a9213",
   "metadata": {},
   "outputs": [],
   "source": [
    "from ResNet_modules import ResNet1D, root_mean_squared_error\n",
    "from Train_evaluate_ResNet import train_model, evaluate_model, evaluate_model_by_activity\n",
    "from run import run_resnet, run_resnet_perActivity"
   ]
  },
  {
   "cell_type": "markdown",
   "id": "86336c59-d5b1-490f-bc0d-351171f96917",
   "metadata": {},
   "source": [
    "## Signals and Groups"
   ]
  },
  {
   "cell_type": "code",
   "execution_count": 2,
   "id": "c377d4aa-5a12-401f-ab02-4ce128bbe8d3",
   "metadata": {},
   "outputs": [],
   "source": [
    "signal_names=[\"Interpolated Values_Waist Acceleration\",\n",
    "\"Interpolated Values_Chest Acceleration\",\n",
    "\"Interpolated Values_Left Ankle Acceleration\",\n",
    "\"Interpolated Values_right Ankle Acceleration\",\n",
    "\"Interpolated_gaussian_EMG_magnitude_left\",\n",
    "\"Interpolated_gaussian_EMG_magnitude_right\",\n",
    "\"Interpolated Values_left wrist Acceleration\",\n",
    "\"Interpolated Values_left wrist electrodermal\" ,\n",
    "\"Interpolated Values_left wrist Tempreture\",\n",
    "\"Interpolated Values_Heart Rate\",\n",
    "\"Interpolated Values_SpO2\",\n",
    "\"Interpolated Values_Breath Frequency\",\n",
    "\"Interpolated Values_Minute Ventilation\",\n",
    "\"Interpolated Values_VO2\",\n",
    "\"Interpolated Values_right wrist Tempreture\",\n",
    "\"Interpolated Values_right wrist electrodermal\",\n",
    "\"Interpolated Values_right wrist Acceleration\"]\n",
    "\n",
    "global_signals = [\n",
    "\"Interpolated Values_left wrist electrodermal\",\n",
    "\"Interpolated Values_right wrist electrodermal\",\n",
    "\"Interpolated Values_left wrist Tempreture\",\n",
    "\"Interpolated Values_right wrist Tempreture\",\n",
    "\"Interpolated Values_Heart Rate\",\n",
    "\"Interpolated Values_SpO2\",\n",
    "\"Interpolated Values_Breath Frequency\",\n",
    "\"Interpolated Values_Minute Ventilation\"\n",
    "]\n",
    "local_signals = [\"Interpolated Values_Waist Acceleration\",\"Interpolated Values_Chest Acceleration\",\n",
    "\"Interpolated Values_Left Ankle Acceleration\",\"Interpolated Values_right Ankle Acceleration\",\n",
    "\"Interpolated_gaussian_EMG_magnitude_left\",\"Interpolated_gaussian_EMG_magnitude_right\",\n",
    "\"Interpolated Values_left wrist Acceleration\",\"Interpolated Values_right wrist Acceleration\"]\n",
    "\n",
    "loc_glob_signals = [\"Interpolated Values_Waist Acceleration\",\"Interpolated Values_Chest Acceleration\",\n",
    "\"Interpolated Values_Left Ankle Acceleration\",\"Interpolated Values_right Ankle Acceleration\",\n",
    "\"Interpolated_gaussian_EMG_magnitude_left\",\"Interpolated_gaussian_EMG_magnitude_right\",\n",
    "\"Interpolated Values_left wrist Acceleration\",\"Interpolated Values_right wrist Acceleration\",\n",
    "\"Interpolated Values_left wrist electrodermal\",\n",
    "\"Interpolated Values_right wrist electrodermal\",\n",
    "\"Interpolated Values_left wrist Tempreture\",\n",
    "\"Interpolated Values_right wrist Tempreture\",\n",
    "\"Interpolated Values_Heart Rate\",\n",
    "\"Interpolated Values_SpO2\",\n",
    "\"Interpolated Values_Breath Frequency\",\n",
    "\"Interpolated Values_Minute Ventilation\"\n",
    "]\n",
    "Hexoskin_signals = [\"Interpolated Values_Waist Acceleration\" ,\n",
    "\"Interpolated Values_Heart Rate\",\"Interpolated Values_Breath Frequency\",\"Interpolated Values_Minute Ventilation\"]\n",
    "\n",
    "\n"
   ]
  },
  {
   "cell_type": "markdown",
   "id": "7834fe6f-6ca7-471b-beea-95f0cacf4d38",
   "metadata": {},
   "source": [
    "### get the RMSE for All signals (single input)"
   ]
  },
  {
   "cell_type": "code",
   "execution_count": null,
   "id": "0d66beb6-8d73-40ee-9768-877abadc5efc",
   "metadata": {},
   "outputs": [],
   "source": [
    "for sig in signal_names:\n",
    "    rmse_list, sig, average_rmse = run_resnet(sig=[sig],epochs=100)\n",
    "    #if you need per-subject result, uncomment nthe ext line     \n",
    "    #print('\\n'.join(f'sub{i+1}: {n}' for i, n in enumerate(rmse_list)))\n",
    "    print(sig, average_rmse)"
   ]
  },
  {
   "cell_type": "markdown",
   "id": "8275ede8-58ce-464d-b49b-2eb94d6568b3",
   "metadata": {
    "jp-MarkdownHeadingCollapsed": true
   },
   "source": [
    "## Group input"
   ]
  },
  {
   "cell_type": "code",
   "execution_count": null,
   "id": "64ef4103-1fde-4c2e-91ff-afd7a7693680",
   "metadata": {},
   "outputs": [],
   "source": [
    "#In this function, for \"sig\" you can put the name of any other group of signals that are mentioned above, like \"local_signals\"\n",
    "rmse_list, sig, average_rmse = run_resnet(sig=global_signals,epochs=100)\n",
    "#if you need per subject result, uncomment next line     \n",
    "#    print('\\n'.join(f'sub{i+1}: {n}' for i, n in enumerate(rmse_list)))\n",
    "\n",
    "print(average_rmse)"
   ]
  },
  {
   "cell_type": "markdown",
   "id": "cd3c2c7e-0747-47f1-a754-f05799759da2",
   "metadata": {},
   "source": [
    "### Pair Combinations"
   ]
  },
  {
   "cell_type": "code",
   "execution_count": null,
   "id": "1c400067-eebc-4bd4-895e-3bfe4ecc0152",
   "metadata": {},
   "outputs": [],
   "source": [
    "all_subinations = list(combinations(loc_glob_signals, 2))\n",
    "# results = []\n",
    "for signal_pair in all_subinations:\n",
    "    pair_signal = list(signal_pair)\n",
    "    rmse_list, sig, average_rmse = run_resnet(sig=signal_pair,epochs=100)\n",
    "    #if you need per subject result, uncomment next line     \n",
    "    #print('\\n'.join(f'sub{i+1}: {n}' for i, n in enumerate(rmse_list)))\n",
    "    print(f\"Combination: {signal_pair} -> Average RMSE: {avg_rmse:.4f}\")\n",
    "    # results.append((signal_pair, avg_rmse))"
   ]
  },
  {
   "cell_type": "markdown",
   "id": "cdcb47db-cb05-42ec-9171-b50b5fadb327",
   "metadata": {
    "jp-MarkdownHeadingCollapsed": true
   },
   "source": [
    "## Activity wise study"
   ]
  },
  {
   "cell_type": "code",
   "execution_count": null,
   "id": "53b49e8d-8126-4573-8dd5-305c3998ae38",
   "metadata": {},
   "outputs": [],
   "source": [
    "for sig in signal_names:\n",
    "    run_resnet_perActivity(sig=[sig],epochs=100)"
   ]
  },
  {
   "cell_type": "markdown",
   "id": "5ae3e6da-3716-4af9-a848-4c3ceac0e201",
   "metadata": {},
   "source": [
    "### Group input"
   ]
  },
  {
   "cell_type": "code",
   "execution_count": null,
   "id": "15614f2d-2f17-440d-9824-e680ee296f4d",
   "metadata": {},
   "outputs": [],
   "source": [
    "#In this function, for \"sig\" you can put the name of any other group of signals that are mentioned above, like \"local_signals\"\n",
    "run_resnet_perActivity(sig=global_signals,epochs=100)"
   ]
  }
 ],
 "metadata": {
  "kernelspec": {
   "display_name": "Python 3 (ipykernel)",
   "language": "python",
   "name": "python3"
  },
  "language_info": {
   "codemirror_mode": {
    "name": "ipython",
    "version": 3
   },
   "file_extension": ".py",
   "mimetype": "text/x-python",
   "name": "python",
   "nbconvert_exporter": "python",
   "pygments_lexer": "ipython3",
   "version": "3.11.5"
  }
 },
 "nbformat": 4,
 "nbformat_minor": 5
}
